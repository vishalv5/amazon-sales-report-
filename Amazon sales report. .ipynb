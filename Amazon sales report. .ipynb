{
 "cells": [
  {
   "cell_type": "code",
   "execution_count": 3,
   "id": "a23fc34d",
   "metadata": {},
   "outputs": [],
   "source": [
    "import pandas as pd\n",
    "import numpy as np\n",
    "import matplotlib.pyplot as plt\n",
    "%matplotlib inline\n",
    "import seaborn as sns\n"
   ]
  },
  {
   "cell_type": "code",
   "execution_count": 4,
   "id": "c4bef939",
   "metadata": {},
   "outputs": [],
   "source": [
    "df=pd.read_csv('Amazon Sale Report 2.csv',encoding= 'unicode_escape')"
   ]
  },
  {
   "cell_type": "code",
   "execution_count": 5,
   "id": "fe1a57de",
   "metadata": {},
   "outputs": [
    {
     "data": {
      "text/plain": [
       "(128976, 19)"
      ]
     },
     "execution_count": 5,
     "metadata": {},
     "output_type": "execute_result"
    }
   ],
   "source": [
    "df.shape"
   ]
  },
  {
   "cell_type": "code",
   "execution_count": 6,
   "id": "75b65018",
   "metadata": {},
   "outputs": [
    {
     "data": {
      "text/html": [
       "<div>\n",
       "<style scoped>\n",
       "    .dataframe tbody tr th:only-of-type {\n",
       "        vertical-align: middle;\n",
       "    }\n",
       "\n",
       "    .dataframe tbody tr th {\n",
       "        vertical-align: top;\n",
       "    }\n",
       "\n",
       "    .dataframe thead th {\n",
       "        text-align: right;\n",
       "    }\n",
       "</style>\n",
       "<table border=\"1\" class=\"dataframe\">\n",
       "  <thead>\n",
       "    <tr style=\"text-align: right;\">\n",
       "      <th></th>\n",
       "      <th>index</th>\n",
       "      <th>Order ID</th>\n",
       "      <th>Date</th>\n",
       "      <th>Status</th>\n",
       "      <th>Fulfilment</th>\n",
       "      <th>Sales Channel</th>\n",
       "      <th>ship-service-level</th>\n",
       "      <th>Category</th>\n",
       "      <th>Size</th>\n",
       "      <th>Courier Status</th>\n",
       "      <th>Qty</th>\n",
       "      <th>currency</th>\n",
       "      <th>Amount</th>\n",
       "      <th>ship-city</th>\n",
       "      <th>ship-state</th>\n",
       "      <th>ship-postal-code</th>\n",
       "      <th>ship-country</th>\n",
       "      <th>B2B</th>\n",
       "      <th>fulfilled-by</th>\n",
       "    </tr>\n",
       "  </thead>\n",
       "  <tbody>\n",
       "    <tr>\n",
       "      <th>0</th>\n",
       "      <td>0</td>\n",
       "      <td>405-8078784-5731545</td>\n",
       "      <td>4/30/2022</td>\n",
       "      <td>Cancelled</td>\n",
       "      <td>Merchant</td>\n",
       "      <td>Amazon.in</td>\n",
       "      <td>Standard</td>\n",
       "      <td>T-shirt</td>\n",
       "      <td>S</td>\n",
       "      <td>On the Way</td>\n",
       "      <td>0</td>\n",
       "      <td>INR</td>\n",
       "      <td>647.62</td>\n",
       "      <td>MUMBAI</td>\n",
       "      <td>MAHARASHTRA</td>\n",
       "      <td>400081.0</td>\n",
       "      <td>IN</td>\n",
       "      <td>False</td>\n",
       "      <td>Easy Ship</td>\n",
       "    </tr>\n",
       "    <tr>\n",
       "      <th>1</th>\n",
       "      <td>1</td>\n",
       "      <td>171-9198151-1101146</td>\n",
       "      <td>4/30/2022</td>\n",
       "      <td>Shipped - Delivered to Buyer</td>\n",
       "      <td>Merchant</td>\n",
       "      <td>Amazon.in</td>\n",
       "      <td>Standard</td>\n",
       "      <td>Shirt</td>\n",
       "      <td>3XL</td>\n",
       "      <td>Shipped</td>\n",
       "      <td>1</td>\n",
       "      <td>INR</td>\n",
       "      <td>406.00</td>\n",
       "      <td>BENGALURU</td>\n",
       "      <td>KARNATAKA</td>\n",
       "      <td>560085.0</td>\n",
       "      <td>IN</td>\n",
       "      <td>False</td>\n",
       "      <td>Easy Ship</td>\n",
       "    </tr>\n",
       "    <tr>\n",
       "      <th>2</th>\n",
       "      <td>2</td>\n",
       "      <td>404-0687676-7273146</td>\n",
       "      <td>4/30/2022</td>\n",
       "      <td>Shipped</td>\n",
       "      <td>Amazon</td>\n",
       "      <td>Amazon.in</td>\n",
       "      <td>Expedited</td>\n",
       "      <td>Shirt</td>\n",
       "      <td>XL</td>\n",
       "      <td>Shipped</td>\n",
       "      <td>1</td>\n",
       "      <td>INR</td>\n",
       "      <td>329.00</td>\n",
       "      <td>NAVI MUMBAI</td>\n",
       "      <td>MAHARASHTRA</td>\n",
       "      <td>410210.0</td>\n",
       "      <td>IN</td>\n",
       "      <td>True</td>\n",
       "      <td>NaN</td>\n",
       "    </tr>\n",
       "    <tr>\n",
       "      <th>3</th>\n",
       "      <td>3</td>\n",
       "      <td>403-9615377-8133951</td>\n",
       "      <td>4/30/2022</td>\n",
       "      <td>Cancelled</td>\n",
       "      <td>Merchant</td>\n",
       "      <td>Amazon.in</td>\n",
       "      <td>Standard</td>\n",
       "      <td>Blazzer</td>\n",
       "      <td>L</td>\n",
       "      <td>On the Way</td>\n",
       "      <td>0</td>\n",
       "      <td>INR</td>\n",
       "      <td>753.33</td>\n",
       "      <td>PUDUCHERRY</td>\n",
       "      <td>PUDUCHERRY</td>\n",
       "      <td>605008.0</td>\n",
       "      <td>IN</td>\n",
       "      <td>False</td>\n",
       "      <td>Easy Ship</td>\n",
       "    </tr>\n",
       "    <tr>\n",
       "      <th>4</th>\n",
       "      <td>4</td>\n",
       "      <td>407-1069790-7240320</td>\n",
       "      <td>4/30/2022</td>\n",
       "      <td>Shipped</td>\n",
       "      <td>Amazon</td>\n",
       "      <td>Amazon.in</td>\n",
       "      <td>Expedited</td>\n",
       "      <td>Trousers</td>\n",
       "      <td>3XL</td>\n",
       "      <td>Shipped</td>\n",
       "      <td>1</td>\n",
       "      <td>INR</td>\n",
       "      <td>574.00</td>\n",
       "      <td>CHENNAI</td>\n",
       "      <td>TAMIL NADU</td>\n",
       "      <td>600073.0</td>\n",
       "      <td>IN</td>\n",
       "      <td>False</td>\n",
       "      <td>NaN</td>\n",
       "    </tr>\n",
       "  </tbody>\n",
       "</table>\n",
       "</div>"
      ],
      "text/plain": [
       "   index             Order ID       Date                        Status  \\\n",
       "0      0  405-8078784-5731545  4/30/2022                     Cancelled   \n",
       "1      1  171-9198151-1101146  4/30/2022  Shipped - Delivered to Buyer   \n",
       "2      2  404-0687676-7273146  4/30/2022                       Shipped   \n",
       "3      3  403-9615377-8133951  4/30/2022                     Cancelled   \n",
       "4      4  407-1069790-7240320  4/30/2022                       Shipped   \n",
       "\n",
       "  Fulfilment Sales Channel ship-service-level  Category Size Courier Status  \\\n",
       "0   Merchant     Amazon.in           Standard   T-shirt    S     On the Way   \n",
       "1   Merchant     Amazon.in           Standard     Shirt  3XL        Shipped   \n",
       "2     Amazon     Amazon.in          Expedited     Shirt   XL        Shipped   \n",
       "3   Merchant     Amazon.in           Standard   Blazzer    L     On the Way   \n",
       "4     Amazon     Amazon.in          Expedited  Trousers  3XL        Shipped   \n",
       "\n",
       "   Qty currency  Amount    ship-city   ship-state  ship-postal-code  \\\n",
       "0    0      INR  647.62       MUMBAI  MAHARASHTRA          400081.0   \n",
       "1    1      INR  406.00    BENGALURU    KARNATAKA          560085.0   \n",
       "2    1      INR  329.00  NAVI MUMBAI  MAHARASHTRA          410210.0   \n",
       "3    0      INR  753.33   PUDUCHERRY   PUDUCHERRY          605008.0   \n",
       "4    1      INR  574.00      CHENNAI   TAMIL NADU          600073.0   \n",
       "\n",
       "  ship-country    B2B fulfilled-by  \n",
       "0           IN  False    Easy Ship  \n",
       "1           IN  False    Easy Ship  \n",
       "2           IN   True          NaN  \n",
       "3           IN  False    Easy Ship  \n",
       "4           IN  False          NaN  "
      ]
     },
     "execution_count": 6,
     "metadata": {},
     "output_type": "execute_result"
    }
   ],
   "source": [
    "df.head(5)"
   ]
  },
  {
   "cell_type": "code",
   "execution_count": 7,
   "id": "c36edd93",
   "metadata": {},
   "outputs": [
    {
     "data": {
      "text/html": [
       "<div>\n",
       "<style scoped>\n",
       "    .dataframe tbody tr th:only-of-type {\n",
       "        vertical-align: middle;\n",
       "    }\n",
       "\n",
       "    .dataframe tbody tr th {\n",
       "        vertical-align: top;\n",
       "    }\n",
       "\n",
       "    .dataframe thead th {\n",
       "        text-align: right;\n",
       "    }\n",
       "</style>\n",
       "<table border=\"1\" class=\"dataframe\">\n",
       "  <thead>\n",
       "    <tr style=\"text-align: right;\">\n",
       "      <th></th>\n",
       "      <th>index</th>\n",
       "      <th>Order ID</th>\n",
       "      <th>Date</th>\n",
       "      <th>Status</th>\n",
       "      <th>Fulfilment</th>\n",
       "      <th>Sales Channel</th>\n",
       "      <th>ship-service-level</th>\n",
       "      <th>Category</th>\n",
       "      <th>Size</th>\n",
       "      <th>Courier Status</th>\n",
       "      <th>Qty</th>\n",
       "      <th>currency</th>\n",
       "      <th>Amount</th>\n",
       "      <th>ship-city</th>\n",
       "      <th>ship-state</th>\n",
       "      <th>ship-postal-code</th>\n",
       "      <th>ship-country</th>\n",
       "      <th>B2B</th>\n",
       "      <th>fulfilled-by</th>\n",
       "    </tr>\n",
       "  </thead>\n",
       "  <tbody>\n",
       "    <tr>\n",
       "      <th>128971</th>\n",
       "      <td>128970</td>\n",
       "      <td>406-6001380-7673107</td>\n",
       "      <td>5/31/2022</td>\n",
       "      <td>Shipped</td>\n",
       "      <td>Amazon</td>\n",
       "      <td>Amazon.in</td>\n",
       "      <td>Expedited</td>\n",
       "      <td>Shirt</td>\n",
       "      <td>XL</td>\n",
       "      <td>Shipped</td>\n",
       "      <td>1</td>\n",
       "      <td>INR</td>\n",
       "      <td>517.0</td>\n",
       "      <td>HYDERABAD</td>\n",
       "      <td>TELANGANA</td>\n",
       "      <td>500013.0</td>\n",
       "      <td>IN</td>\n",
       "      <td>False</td>\n",
       "      <td>NaN</td>\n",
       "    </tr>\n",
       "    <tr>\n",
       "      <th>128972</th>\n",
       "      <td>128971</td>\n",
       "      <td>402-9551604-7544318</td>\n",
       "      <td>5/31/2022</td>\n",
       "      <td>Shipped</td>\n",
       "      <td>Amazon</td>\n",
       "      <td>Amazon.in</td>\n",
       "      <td>Expedited</td>\n",
       "      <td>T-shirt</td>\n",
       "      <td>M</td>\n",
       "      <td>Shipped</td>\n",
       "      <td>1</td>\n",
       "      <td>INR</td>\n",
       "      <td>999.0</td>\n",
       "      <td>GURUGRAM</td>\n",
       "      <td>HARYANA</td>\n",
       "      <td>122004.0</td>\n",
       "      <td>IN</td>\n",
       "      <td>False</td>\n",
       "      <td>NaN</td>\n",
       "    </tr>\n",
       "    <tr>\n",
       "      <th>128973</th>\n",
       "      <td>128972</td>\n",
       "      <td>407-9547469-3152358</td>\n",
       "      <td>5/31/2022</td>\n",
       "      <td>Shipped</td>\n",
       "      <td>Amazon</td>\n",
       "      <td>Amazon.in</td>\n",
       "      <td>Expedited</td>\n",
       "      <td>Blazzer</td>\n",
       "      <td>XXL</td>\n",
       "      <td>Shipped</td>\n",
       "      <td>1</td>\n",
       "      <td>INR</td>\n",
       "      <td>690.0</td>\n",
       "      <td>HYDERABAD</td>\n",
       "      <td>TELANGANA</td>\n",
       "      <td>500049.0</td>\n",
       "      <td>IN</td>\n",
       "      <td>False</td>\n",
       "      <td>NaN</td>\n",
       "    </tr>\n",
       "    <tr>\n",
       "      <th>128974</th>\n",
       "      <td>128973</td>\n",
       "      <td>402-6184140-0545956</td>\n",
       "      <td>5/31/2022</td>\n",
       "      <td>Shipped</td>\n",
       "      <td>Amazon</td>\n",
       "      <td>Amazon.in</td>\n",
       "      <td>Expedited</td>\n",
       "      <td>T-shirt</td>\n",
       "      <td>XS</td>\n",
       "      <td>Shipped</td>\n",
       "      <td>1</td>\n",
       "      <td>INR</td>\n",
       "      <td>1199.0</td>\n",
       "      <td>Halol</td>\n",
       "      <td>Gujarat</td>\n",
       "      <td>389350.0</td>\n",
       "      <td>IN</td>\n",
       "      <td>False</td>\n",
       "      <td>NaN</td>\n",
       "    </tr>\n",
       "    <tr>\n",
       "      <th>128975</th>\n",
       "      <td>128974</td>\n",
       "      <td>408-7436540-8728312</td>\n",
       "      <td>5/31/2022</td>\n",
       "      <td>Shipped</td>\n",
       "      <td>Amazon</td>\n",
       "      <td>Amazon.in</td>\n",
       "      <td>Expedited</td>\n",
       "      <td>T-shirt</td>\n",
       "      <td>S</td>\n",
       "      <td>Shipped</td>\n",
       "      <td>1</td>\n",
       "      <td>INR</td>\n",
       "      <td>696.0</td>\n",
       "      <td>Raipur</td>\n",
       "      <td>CHHATTISGARH</td>\n",
       "      <td>492014.0</td>\n",
       "      <td>IN</td>\n",
       "      <td>False</td>\n",
       "      <td>NaN</td>\n",
       "    </tr>\n",
       "  </tbody>\n",
       "</table>\n",
       "</div>"
      ],
      "text/plain": [
       "         index             Order ID       Date   Status Fulfilment  \\\n",
       "128971  128970  406-6001380-7673107  5/31/2022  Shipped     Amazon   \n",
       "128972  128971  402-9551604-7544318  5/31/2022  Shipped     Amazon   \n",
       "128973  128972  407-9547469-3152358  5/31/2022  Shipped     Amazon   \n",
       "128974  128973  402-6184140-0545956  5/31/2022  Shipped     Amazon   \n",
       "128975  128974  408-7436540-8728312  5/31/2022  Shipped     Amazon   \n",
       "\n",
       "       Sales Channel ship-service-level Category Size Courier Status  Qty  \\\n",
       "128971     Amazon.in          Expedited    Shirt   XL        Shipped    1   \n",
       "128972     Amazon.in          Expedited  T-shirt    M        Shipped    1   \n",
       "128973     Amazon.in          Expedited  Blazzer  XXL        Shipped    1   \n",
       "128974     Amazon.in          Expedited  T-shirt   XS        Shipped    1   \n",
       "128975     Amazon.in          Expedited  T-shirt    S        Shipped    1   \n",
       "\n",
       "       currency  Amount  ship-city    ship-state  ship-postal-code  \\\n",
       "128971      INR   517.0  HYDERABAD     TELANGANA          500013.0   \n",
       "128972      INR   999.0   GURUGRAM       HARYANA          122004.0   \n",
       "128973      INR   690.0  HYDERABAD     TELANGANA          500049.0   \n",
       "128974      INR  1199.0      Halol       Gujarat          389350.0   \n",
       "128975      INR   696.0     Raipur  CHHATTISGARH          492014.0   \n",
       "\n",
       "       ship-country    B2B fulfilled-by  \n",
       "128971           IN  False          NaN  \n",
       "128972           IN  False          NaN  \n",
       "128973           IN  False          NaN  \n",
       "128974           IN  False          NaN  \n",
       "128975           IN  False          NaN  "
      ]
     },
     "execution_count": 7,
     "metadata": {},
     "output_type": "execute_result"
    }
   ],
   "source": [
    "df.tail()"
   ]
  },
  {
   "cell_type": "code",
   "execution_count": 8,
   "id": "e9e765bf",
   "metadata": {},
   "outputs": [
    {
     "data": {
      "text/plain": [
       "index                     0\n",
       "Order ID                  0\n",
       "Date                      0\n",
       "Status                    0\n",
       "Fulfilment                0\n",
       "Sales Channel             0\n",
       "ship-service-level        0\n",
       "Category                  0\n",
       "Size                      0\n",
       "Courier Status            0\n",
       "Qty                       0\n",
       "currency               7800\n",
       "Amount                 7800\n",
       "ship-city                35\n",
       "ship-state               10\n",
       "ship-postal-code         35\n",
       "ship-country             35\n",
       "B2B                       0\n",
       "fulfilled-by          89713\n",
       "dtype: int64"
      ]
     },
     "execution_count": 8,
     "metadata": {},
     "output_type": "execute_result"
    }
   ],
   "source": [
    "pd.isnull(df).sum()"
   ]
  },
  {
   "cell_type": "code",
   "execution_count": 9,
   "id": "253c5cfc",
   "metadata": {},
   "outputs": [],
   "source": [
    "df.dropna(inplace=True)"
   ]
  },
  {
   "cell_type": "code",
   "execution_count": 10,
   "id": "147258df",
   "metadata": {},
   "outputs": [],
   "source": [
    "#df.drop(['New' ,'PendingS'],axis=1, inplace= True)"
   ]
  },
  {
   "cell_type": "code",
   "execution_count": 11,
   "id": "2e5d2df7",
   "metadata": {},
   "outputs": [],
   "source": [
    "df['ship-postal-code']=df['ship-postal-code'].astype('int')"
   ]
  },
  {
   "cell_type": "code",
   "execution_count": 12,
   "id": "6aa06594",
   "metadata": {},
   "outputs": [],
   "source": [
    "df['Date']=pd.to_datetime(df['Date'])"
   ]
  },
  {
   "cell_type": "code",
   "execution_count": 13,
   "id": "540b2b59",
   "metadata": {
    "scrolled": true
   },
   "outputs": [
    {
     "name": "stdout",
     "output_type": "stream",
     "text": [
      "<class 'pandas.core.frame.DataFrame'>\n",
      "Int64Index: 37514 entries, 0 to 128892\n",
      "Data columns (total 19 columns):\n",
      " #   Column              Non-Null Count  Dtype         \n",
      "---  ------              --------------  -----         \n",
      " 0   index               37514 non-null  int64         \n",
      " 1   Order ID            37514 non-null  object        \n",
      " 2   Date                37514 non-null  datetime64[ns]\n",
      " 3   Status              37514 non-null  object        \n",
      " 4   Fulfilment          37514 non-null  object        \n",
      " 5   Sales Channel       37514 non-null  object        \n",
      " 6   ship-service-level  37514 non-null  object        \n",
      " 7   Category            37514 non-null  object        \n",
      " 8   Size                37514 non-null  object        \n",
      " 9   Courier Status      37514 non-null  object        \n",
      " 10  Qty                 37514 non-null  int64         \n",
      " 11  currency            37514 non-null  object        \n",
      " 12  Amount              37514 non-null  float64       \n",
      " 13  ship-city           37514 non-null  object        \n",
      " 14  ship-state          37514 non-null  object        \n",
      " 15  ship-postal-code    37514 non-null  int32         \n",
      " 16  ship-country        37514 non-null  object        \n",
      " 17  B2B                 37514 non-null  bool          \n",
      " 18  fulfilled-by        37514 non-null  object        \n",
      "dtypes: bool(1), datetime64[ns](1), float64(1), int32(1), int64(2), object(13)\n",
      "memory usage: 5.3+ MB\n"
     ]
    }
   ],
   "source": [
    "df.info()"
   ]
  },
  {
   "cell_type": "code",
   "execution_count": 14,
   "id": "ee59af21",
   "metadata": {},
   "outputs": [
    {
     "data": {
      "text/plain": [
       "Index(['index', 'Order ID', 'Date', 'Status', 'Fulfilment', 'Sales Channel',\n",
       "       'ship-service-level', 'Category', 'Size', 'Courier Status', 'Qty',\n",
       "       'currency', 'Amount', 'ship-city', 'ship-state', 'ship-postal-code',\n",
       "       'ship-country', 'B2B', 'fulfilled-by'],\n",
       "      dtype='object')"
      ]
     },
     "execution_count": 14,
     "metadata": {},
     "output_type": "execute_result"
    }
   ],
   "source": [
    "df.columns"
   ]
  },
  {
   "cell_type": "markdown",
   "id": "0361deea",
   "metadata": {},
   "source": [
    "# EDA\n"
   ]
  },
  {
   "cell_type": "code",
   "execution_count": 15,
   "id": "1a518d8b",
   "metadata": {},
   "outputs": [
    {
     "data": {
      "text/plain": [
       "array(['S', '3XL', 'L', 'XS', '6XL', 'XXL', 'M', 'XL', 'Free', '5XL',\n",
       "       '4XL'], dtype=object)"
      ]
     },
     "execution_count": 15,
     "metadata": {},
     "output_type": "execute_result"
    }
   ],
   "source": [
    "df['Size'].unique()"
   ]
  },
  {
   "cell_type": "code",
   "execution_count": 16,
   "id": "2e65650e",
   "metadata": {},
   "outputs": [
    {
     "data": {
      "text/plain": [
       "Index(['index', 'Order ID', 'Date', 'Status', 'Fulfilment', 'Sales Channel',\n",
       "       'ship-service-level', 'Category', 'Size', 'Courier Status', 'Qty',\n",
       "       'currency', 'Amount', 'ship-city', 'ship-state', 'ship-postal-code',\n",
       "       'ship-country', 'B2B', 'fulfilled-by'],\n",
       "      dtype='object')"
      ]
     },
     "execution_count": 16,
     "metadata": {},
     "output_type": "execute_result"
    }
   ],
   "source": [
    "df.columns"
   ]
  },
  {
   "cell_type": "code",
   "execution_count": 17,
   "id": "62ad9741",
   "metadata": {},
   "outputs": [
    {
     "data": {
      "text/plain": [
       "37514"
      ]
     },
     "execution_count": 17,
     "metadata": {},
     "output_type": "execute_result"
    }
   ],
   "source": [
    "df['Size'].count()\n"
   ]
  },
  {
   "cell_type": "code",
   "execution_count": 18,
   "id": "27bb4fbb",
   "metadata": {},
   "outputs": [
    {
     "data": {
      "image/png": "[encoded data removed]",
      "text/plain": [
       "<Figure size 640x480 with 1 Axes>"
      ]
     },
     "metadata": {},
     "output_type": "display_data"
    }
   ],
   "source": [
    "axx=sns.countplot(x='Size',data=df)"
   ]
  },
  {
   "cell_type": "markdown",
   "id": "6f9a679f",
   "metadata": {},
   "source": [
    "##### In the above countplot we see that mostly the people buys M size , follow by the L"
   ]
  },
  {
   "cell_type": "code",
   "execution_count": 19,
   "id": "834343d4",
   "metadata": {},
   "outputs": [
    {
     "data": {
      "text/html": [
       "<div>\n",
       "<style scoped>\n",
       "    .dataframe tbody tr th:only-of-type {\n",
       "        vertical-align: middle;\n",
       "    }\n",
       "\n",
       "    .dataframe tbody tr th {\n",
       "        vertical-align: top;\n",
       "    }\n",
       "\n",
       "    .dataframe thead th {\n",
       "        text-align: right;\n",
       "    }\n",
       "</style>\n",
       "<table border=\"1\" class=\"dataframe\">\n",
       "  <thead>\n",
       "    <tr style=\"text-align: right;\">\n",
       "      <th></th>\n",
       "      <th>Size</th>\n",
       "      <th>Qty</th>\n",
       "    </tr>\n",
       "  </thead>\n",
       "  <tbody>\n",
       "    <tr>\n",
       "      <th>6</th>\n",
       "      <td>M</td>\n",
       "      <td>5905</td>\n",
       "    </tr>\n",
       "    <tr>\n",
       "      <th>5</th>\n",
       "      <td>L</td>\n",
       "      <td>5795</td>\n",
       "    </tr>\n",
       "    <tr>\n",
       "      <th>8</th>\n",
       "      <td>XL</td>\n",
       "      <td>5481</td>\n",
       "    </tr>\n",
       "    <tr>\n",
       "      <th>10</th>\n",
       "      <td>XXL</td>\n",
       "      <td>4465</td>\n",
       "    </tr>\n",
       "    <tr>\n",
       "      <th>0</th>\n",
       "      <td>3XL</td>\n",
       "      <td>3972</td>\n",
       "    </tr>\n",
       "    <tr>\n",
       "      <th>7</th>\n",
       "      <td>S</td>\n",
       "      <td>3896</td>\n",
       "    </tr>\n",
       "    <tr>\n",
       "      <th>9</th>\n",
       "      <td>XS</td>\n",
       "      <td>2191</td>\n",
       "    </tr>\n",
       "    <tr>\n",
       "      <th>4</th>\n",
       "      <td>Free</td>\n",
       "      <td>467</td>\n",
       "    </tr>\n",
       "    <tr>\n",
       "      <th>3</th>\n",
       "      <td>6XL</td>\n",
       "      <td>170</td>\n",
       "    </tr>\n",
       "    <tr>\n",
       "      <th>2</th>\n",
       "      <td>5XL</td>\n",
       "      <td>104</td>\n",
       "    </tr>\n",
       "    <tr>\n",
       "      <th>1</th>\n",
       "      <td>4XL</td>\n",
       "      <td>93</td>\n",
       "    </tr>\n",
       "  </tbody>\n",
       "</table>\n",
       "</div>"
      ],
      "text/plain": [
       "    Size   Qty\n",
       "6      M  5905\n",
       "5      L  5795\n",
       "8     XL  5481\n",
       "10   XXL  4465\n",
       "0    3XL  3972\n",
       "7      S  3896\n",
       "9     XS  2191\n",
       "4   Free   467\n",
       "3    6XL   170\n",
       "2    5XL   104\n",
       "1    4XL    93"
      ]
     },
     "execution_count": 19,
     "metadata": {},
     "output_type": "execute_result"
    }
   ],
   "source": [
    "df.groupby(['Size'], as_index=False)['Qty'].sum().sort_values(by='Qty',ascending=False\n",
    "                                )"
   ]
  },
  {
   "cell_type": "code",
   "execution_count": 20,
   "id": "fa40a0c0",
   "metadata": {},
   "outputs": [
    {
     "data": {
      "text/plain": [
       "Size\n",
       "3XL     3972\n",
       "4XL       93\n",
       "5XL      104\n",
       "6XL      170\n",
       "Free     467\n",
       "L       5795\n",
       "M       5905\n",
       "S       3896\n",
       "XL      5481\n",
       "XS      2191\n",
       "XXL     4465\n",
       "Name: Qty, dtype: int64"
      ]
     },
     "execution_count": 20,
     "metadata": {},
     "output_type": "execute_result"
    }
   ],
   "source": [
    "df.groupby(['Size'], as_index=True)['Qty'].sum()"
   ]
  },
  {
   "cell_type": "code",
   "execution_count": 21,
   "id": "37849df0",
   "metadata": {},
   "outputs": [
    {
     "data": {
      "text/plain": [
       "<Axes: xlabel='Size', ylabel='Qty'>"
      ]
     },
     "execution_count": 21,
     "metadata": {},
     "output_type": "execute_result"
    },
    {
     "data": {
      "image/png": "[encoded data removed]",
      "text/plain": [
       "<Figure size 640x480 with 1 Axes>"
      ]
     },
     "metadata": {},
     "output_type": "display_data"
    }
   ],
   "source": [
    "b=df.groupby(['Size'], as_index=False)['Qty'].sum().sort_values(by='Qty',ascending=False)\n",
    "sns.barplot(x='Size', y=\"Qty\", data=b)"
   ]
  },
  {
   "cell_type": "markdown",
   "id": "785a80f8",
   "metadata": {},
   "source": [
    "##### from the above bar we see that most of the buys M size "
   ]
  },
  {
   "cell_type": "code",
   "execution_count": 22,
   "id": "b1c4540f",
   "metadata": {},
   "outputs": [
    {
     "data": {
      "text/plain": [
       "<Axes: xlabel='Courier Status', ylabel='count'>"
      ]
     },
     "execution_count": 22,
     "metadata": {},
     "output_type": "execute_result"
    },
    {
     "data": {
      "image/png": "[encoded data removed]",
      "text/plain": [
       "<Figure size 640x480 with 1 Axes>"
      ]
     },
     "metadata": {},
     "output_type": "display_data"
    }
   ],
   "source": [
    "\n",
    "sns.countplot(x='Courier Status', data=df, hue='Status')\n"
   ]
  },
  {
   "cell_type": "code",
   "execution_count": 23,
   "id": "ddb43fe9",
   "metadata": {
    "scrolled": false
   },
   "outputs": [
    {
     "data": {
      "text/plain": [
       "array(['T-shirt', 'Shirt', 'Blazzer', 'Socks', 'Trousers', 'Wallet',\n",
       "       'Perfume', 'Shoes'], dtype=object)"
      ]
     },
     "execution_count": 23,
     "metadata": {},
     "output_type": "execute_result"
    }
   ],
   "source": [
    "df['Category'].unique()"
   ]
  },
  {
   "cell_type": "code",
   "execution_count": 24,
   "id": "c377f41a",
   "metadata": {},
   "outputs": [],
   "source": [
    "d=df.groupby(['Category'], as_index=False)['Qty'].sum().sort_values(by='Qty', ascending=False)"
   ]
  },
  {
   "cell_type": "code",
   "execution_count": 25,
   "id": "af83dff0",
   "metadata": {
    "scrolled": false
   },
   "outputs": [
    {
     "data": {
      "image/png": "[encoded data removed]",
      "text/plain": [
       "<Figure size 640x480 with 1 Axes>"
      ]
     },
     "metadata": {},
     "output_type": "display_data"
    }
   ],
   "source": [
    "axx=sns.barplot(x='Category',y='Qty', data=d)\n",
    "for bars in axx.containers:\n",
    "    axx.bar_label(bars)"
   ]
  },
  {
   "cell_type": "markdown",
   "id": "00cd5420",
   "metadata": {},
   "source": [
    "##### from above bar chart we can see that mostly customer buying  the T-shirt"
   ]
  },
  {
   "cell_type": "code",
   "execution_count": 26,
   "id": "8e5b75e3",
   "metadata": {},
   "outputs": [
    {
     "data": {
      "text/html": [
       "<div>\n",
       "<style scoped>\n",
       "    .dataframe tbody tr th:only-of-type {\n",
       "        vertical-align: middle;\n",
       "    }\n",
       "\n",
       "    .dataframe tbody tr th {\n",
       "        vertical-align: top;\n",
       "    }\n",
       "\n",
       "    .dataframe thead th {\n",
       "        text-align: right;\n",
       "    }\n",
       "</style>\n",
       "<table border=\"1\" class=\"dataframe\">\n",
       "  <thead>\n",
       "    <tr style=\"text-align: right;\">\n",
       "      <th></th>\n",
       "      <th>Category</th>\n",
       "      <th>Amount</th>\n",
       "    </tr>\n",
       "  </thead>\n",
       "  <tbody>\n",
       "    <tr>\n",
       "      <th>5</th>\n",
       "      <td>T-shirt</td>\n",
       "      <td>11564206.65</td>\n",
       "    </tr>\n",
       "    <tr>\n",
       "      <th>2</th>\n",
       "      <td>Shirt</td>\n",
       "      <td>6121653.08</td>\n",
       "    </tr>\n",
       "    <tr>\n",
       "      <th>0</th>\n",
       "      <td>Blazzer</td>\n",
       "      <td>4940322.12</td>\n",
       "    </tr>\n",
       "    <tr>\n",
       "      <th>6</th>\n",
       "      <td>Trousers</td>\n",
       "      <td>1214335.30</td>\n",
       "    </tr>\n",
       "    <tr>\n",
       "      <th>1</th>\n",
       "      <td>Perfume</td>\n",
       "      <td>207672.66</td>\n",
       "    </tr>\n",
       "    <tr>\n",
       "      <th>7</th>\n",
       "      <td>Wallet</td>\n",
       "      <td>117047.18</td>\n",
       "    </tr>\n",
       "    <tr>\n",
       "      <th>4</th>\n",
       "      <td>Socks</td>\n",
       "      <td>64238.50</td>\n",
       "    </tr>\n",
       "    <tr>\n",
       "      <th>3</th>\n",
       "      <td>Shoes</td>\n",
       "      <td>25349.76</td>\n",
       "    </tr>\n",
       "  </tbody>\n",
       "</table>\n",
       "</div>"
      ],
      "text/plain": [
       "   Category       Amount\n",
       "5   T-shirt  11564206.65\n",
       "2     Shirt   6121653.08\n",
       "0   Blazzer   4940322.12\n",
       "6  Trousers   1214335.30\n",
       "1   Perfume    207672.66\n",
       "7    Wallet    117047.18\n",
       "4     Socks     64238.50\n",
       "3     Shoes     25349.76"
      ]
     },
     "execution_count": 26,
     "metadata": {},
     "output_type": "execute_result"
    }
   ],
   "source": [
    "df.groupby(['Category'], as_index=False)['Amount'].sum().sort_values(by='Amount', ascending=False)"
   ]
  },
  {
   "cell_type": "code",
   "execution_count": 27,
   "id": "c24e3430",
   "metadata": {},
   "outputs": [
    {
     "data": {
      "image/png": "[encoded data removed]",
      "text/plain": [
       "<Figure size 640x480 with 1 Axes>"
      ]
     },
     "metadata": {},
     "output_type": "display_data"
    }
   ],
   "source": [
    "#plt.figure(figsize=(15,10))\n",
    "d=df.groupby(['Category'], as_index=False)['Amount'].sum().sort_values(by='Amount', ascending=False)\n",
    "axx=sns.barplot(x='Category', y='Amount', data=d, hue='Category')\n",
    "#for bars in axx.containers:\n",
    "   # axx.bar_label(bars)"
   ]
  },
  {
   "cell_type": "markdown",
   "id": "3faa7c32",
   "metadata": {},
   "source": [
    "  #####  from above chart we can see that T-Shirt generate more revenue "
   ]
  },
  {
   "cell_type": "code",
   "execution_count": 28,
   "id": "f05fdcbe",
   "metadata": {},
   "outputs": [
    {
     "data": {
      "text/plain": [
       "RAJASTHAN            35626\n",
       "MAHARASHTRA            365\n",
       "KARNATAKA              267\n",
       "TAMIL NADU             167\n",
       "UTTAR PRADESH          157\n",
       "TELANGANA              156\n",
       "KERALA                 113\n",
       "DELHI                   90\n",
       "ANDHRA PRADESH          86\n",
       "Gujarat                 72\n",
       "HARYANA                 65\n",
       "WEST BENGAL             60\n",
       "MADHYA PRADESH          38\n",
       "ASSAM                   34\n",
       "BIHAR                   33\n",
       "JHARKHAND               26\n",
       "ODISHA                  23\n",
       "PUNJAB                  19\n",
       "UTTARAKHAND             16\n",
       "CHHATTISGARH            16\n",
       "HIMACHAL PRADESH        14\n",
       "GOA                     13\n",
       "JAMMU & KASHMIR         10\n",
       "TRIPURA                  6\n",
       "CHANDIGARH               6\n",
       "PUDUCHERRY               5\n",
       "ANDAMAN & NICOBAR        4\n",
       "MEGHALAYA                4\n",
       "DADRA AND NAGAR          3\n",
       "NAGALAND                 3\n",
       "MANIPUR                  3\n",
       "Goa                      2\n",
       "ARUNACHAL PRADESH        2\n",
       "Meghalaya                2\n",
       "SIKKIM                   1\n",
       "Name: ship-state, dtype: int64"
      ]
     },
     "execution_count": 28,
     "metadata": {},
     "output_type": "execute_result"
    }
   ],
   "source": [
    "df['ship-state'].value_counts().head(35)"
   ]
  },
  {
   "cell_type": "code",
   "execution_count": 29,
   "id": "16a9f5c4",
   "metadata": {},
   "outputs": [
    {
     "data": {
      "text/plain": [
       "<function matplotlib.pyplot.show(close=None, block=None)>"
      ]
     },
     "execution_count": 29,
     "metadata": {},
     "output_type": "execute_result"
    },
    {
     "data": {
      "image/png": "[encoded data removed]",
      "text/plain": [
       "<Figure size 640x480 with 1 Axes>"
      ]
     },
     "metadata": {},
     "output_type": "display_data"
    },
    {
     "data": {
      "text/plain": [
       "<Figure size 1200x600 with 0 Axes>"
      ]
     },
     "metadata": {},
     "output_type": "display_data"
    }
   ],
   "source": [
    "plt.title('Distribution of  State')\n",
    "plt.xticks(rotation=90)\n",
    "top_10_state=df['ship-state'].value_counts().head(10)\n",
    "axx=sns.countplot(data=df[df['ship-state'].isin(top_10_state.index)], x='ship-state',color='blue')\n",
    "plt.figure(figsize=(12, 6))\n",
    "for bars in axx.containers:\n",
    "    axx.bar_label(bars)    \n",
    "plt.show\n",
    "    "
   ]
  },
  {
   "cell_type": "markdown",
   "id": "b448c464",
   "metadata": {},
   "source": [
    "#####  Note- From above chart we can see that  most order come from the Rajasthan"
   ]
  },
  {
   "cell_type": "code",
   "execution_count": 30,
   "id": "e6b1e3fe",
   "metadata": {},
   "outputs": [
    {
     "data": {
      "text/plain": [
       "False    0.992376\n",
       "True     0.007624\n",
       "Name: B2B, dtype: float64"
      ]
     },
     "execution_count": 30,
     "metadata": {},
     "output_type": "execute_result"
    }
   ],
   "source": [
    "df['B2B'].value_counts(normalize= True)"
   ]
  },
  {
   "cell_type": "code",
   "execution_count": 31,
   "id": "10005e45",
   "metadata": {},
   "outputs": [
    {
     "data": {
      "image/png": "[encoded data removed]",
      "text/plain": [
       "<Figure size 640x480 with 1 Axes>"
      ]
     },
     "metadata": {},
     "output_type": "display_data"
    }
   ],
   "source": [
    "b2b = df['B2B'].value_counts()\n",
    "plt.pie(b2b, labels=b2b, autopct='%1.1f%%')\n",
    "plt.axis('equal')\n",
    "plt.show()"
   ]
  },
  {
   "cell_type": "markdown",
   "id": "f3dc61de",
   "metadata": {},
   "source": [
    "##### From above chart  we can see that max i.e. 99.3% of buyers are retailers and 0.7% are B2B buyers"
   ]
  },
  {
   "cell_type": "markdown",
   "id": "aa7afab1",
   "metadata": {},
   "source": [
    "# Conclusion\n"
   ]
  },
  {
   "cell_type": "markdown",
   "id": "c07e1a54",
   "metadata": {},
   "source": [
    "##### In this analysis of Amazon sales  data reveal that most buys from the Rajasthan state , most are the retailers , and the high demand of the T shirt and the perferred the M size."
   ]
  },
  {
   "cell_type": "code",
   "execution_count": null,
   "id": "22b348b8",
   "metadata": {},
   "outputs": [],
   "source": []
  },
  {
   "cell_type": "code",
   "execution_count": null,
   "id": "29833e54",
   "metadata": {},
   "outputs": [],
   "source": []
  },
  {
   "cell_type": "code",
   "execution_count": 32,
   "id": "17982427",
   "metadata": {},
   "outputs": [
    {
     "data": {
      "text/plain": [
       "''"
      ]
     },
     "execution_count": 32,
     "metadata": {},
     "output_type": "execute_result"
    }
   ],
   "source": [
    "''"
   ]
  }
 ],
 "metadata": {
  "kernelspec": {
   "display_name": "Python 3 (ipykernel)",
   "language": "python",
   "name": "python3"
  },
  "language_info": {
   "codemirror_mode": {
    "name": "ipython",
    "version": 3
   },
   "file_extension": ".py",
   "mimetype": "text/x-python",
   "name": "python",
   "nbconvert_exporter": "python",
   "pygments_lexer": "ipython3",
   "version": "3.10.9"
  }
 },
 "nbformat": 4,
 "nbformat_minor": 5
}
